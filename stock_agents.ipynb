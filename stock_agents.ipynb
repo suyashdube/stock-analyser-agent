{
  "nbformat": 4,
  "nbformat_minor": 0,
  "metadata": {
    "colab": {
      "provenance": [],
      "gpuType": "T4"
    },
    "kernelspec": {
      "name": "python3",
      "display_name": "Python 3"
    },
    "language_info": {
      "name": "python"
    },
    "accelerator": "GPU"
  },
  "cells": [
    {
      "cell_type": "code",
      "execution_count": 1,
      "metadata": {
        "colab": {
          "base_uri": "https://localhost:8080/"
        },
        "id": "UW1nG6z6vdnx",
        "outputId": "3e95e72e-4570-47b0-f9ee-875ca1da4fe1"
      },
      "outputs": [
        {
          "output_type": "stream",
          "name": "stdout",
          "text": [
            "Requirement already satisfied: transformers in /usr/local/lib/python3.10/dist-packages (4.44.2)\n",
            "Requirement already satisfied: filelock in /usr/local/lib/python3.10/dist-packages (from transformers) (3.16.1)\n",
            "Requirement already satisfied: huggingface-hub<1.0,>=0.23.2 in /usr/local/lib/python3.10/dist-packages (from transformers) (0.24.7)\n",
            "Requirement already satisfied: numpy>=1.17 in /usr/local/lib/python3.10/dist-packages (from transformers) (1.26.4)\n",
            "Requirement already satisfied: packaging>=20.0 in /usr/local/lib/python3.10/dist-packages (from transformers) (24.1)\n",
            "Requirement already satisfied: pyyaml>=5.1 in /usr/local/lib/python3.10/dist-packages (from transformers) (6.0.2)\n",
            "Requirement already satisfied: regex!=2019.12.17 in /usr/local/lib/python3.10/dist-packages (from transformers) (2024.9.11)\n",
            "Requirement already satisfied: requests in /usr/local/lib/python3.10/dist-packages (from transformers) (2.32.3)\n",
            "Requirement already satisfied: safetensors>=0.4.1 in /usr/local/lib/python3.10/dist-packages (from transformers) (0.4.5)\n",
            "Requirement already satisfied: tokenizers<0.20,>=0.19 in /usr/local/lib/python3.10/dist-packages (from transformers) (0.19.1)\n",
            "Requirement already satisfied: tqdm>=4.27 in /usr/local/lib/python3.10/dist-packages (from transformers) (4.66.6)\n",
            "Requirement already satisfied: fsspec>=2023.5.0 in /usr/local/lib/python3.10/dist-packages (from huggingface-hub<1.0,>=0.23.2->transformers) (2024.10.0)\n",
            "Requirement already satisfied: typing-extensions>=3.7.4.3 in /usr/local/lib/python3.10/dist-packages (from huggingface-hub<1.0,>=0.23.2->transformers) (4.12.2)\n",
            "Requirement already satisfied: charset-normalizer<4,>=2 in /usr/local/lib/python3.10/dist-packages (from requests->transformers) (3.4.0)\n",
            "Requirement already satisfied: idna<4,>=2.5 in /usr/local/lib/python3.10/dist-packages (from requests->transformers) (3.10)\n",
            "Requirement already satisfied: urllib3<3,>=1.21.1 in /usr/local/lib/python3.10/dist-packages (from requests->transformers) (2.2.3)\n",
            "Requirement already satisfied: certifi>=2017.4.17 in /usr/local/lib/python3.10/dist-packages (from requests->transformers) (2024.8.30)\n"
          ]
        }
      ],
      "source": [
        "pip install transformers"
      ]
    },
    {
      "cell_type": "code",
      "source": [
        "pip install yfinance numpy"
      ],
      "metadata": {
        "colab": {
          "base_uri": "https://localhost:8080/"
        },
        "id": "E8EtxlB_vv8N",
        "outputId": "0563c003-4b7d-4c43-a553-60bc5fa2d39b"
      },
      "execution_count": 2,
      "outputs": [
        {
          "output_type": "stream",
          "name": "stdout",
          "text": [
            "Requirement already satisfied: yfinance in /usr/local/lib/python3.10/dist-packages (0.2.48)\n",
            "Requirement already satisfied: numpy in /usr/local/lib/python3.10/dist-packages (1.26.4)\n",
            "Requirement already satisfied: pandas>=1.3.0 in /usr/local/lib/python3.10/dist-packages (from yfinance) (2.2.2)\n",
            "Requirement already satisfied: requests>=2.31 in /usr/local/lib/python3.10/dist-packages (from yfinance) (2.32.3)\n",
            "Requirement already satisfied: multitasking>=0.0.7 in /usr/local/lib/python3.10/dist-packages (from yfinance) (0.0.11)\n",
            "Requirement already satisfied: lxml>=4.9.1 in /usr/local/lib/python3.10/dist-packages (from yfinance) (5.3.0)\n",
            "Requirement already satisfied: platformdirs>=2.0.0 in /usr/local/lib/python3.10/dist-packages (from yfinance) (4.3.6)\n",
            "Requirement already satisfied: pytz>=2022.5 in /usr/local/lib/python3.10/dist-packages (from yfinance) (2024.2)\n",
            "Requirement already satisfied: frozendict>=2.3.4 in /usr/local/lib/python3.10/dist-packages (from yfinance) (2.4.6)\n",
            "Requirement already satisfied: peewee>=3.16.2 in /usr/local/lib/python3.10/dist-packages (from yfinance) (3.17.7)\n",
            "Requirement already satisfied: beautifulsoup4>=4.11.1 in /usr/local/lib/python3.10/dist-packages (from yfinance) (4.12.3)\n",
            "Requirement already satisfied: html5lib>=1.1 in /usr/local/lib/python3.10/dist-packages (from yfinance) (1.1)\n",
            "Requirement already satisfied: soupsieve>1.2 in /usr/local/lib/python3.10/dist-packages (from beautifulsoup4>=4.11.1->yfinance) (2.6)\n",
            "Requirement already satisfied: six>=1.9 in /usr/local/lib/python3.10/dist-packages (from html5lib>=1.1->yfinance) (1.16.0)\n",
            "Requirement already satisfied: webencodings in /usr/local/lib/python3.10/dist-packages (from html5lib>=1.1->yfinance) (0.5.1)\n",
            "Requirement already satisfied: python-dateutil>=2.8.2 in /usr/local/lib/python3.10/dist-packages (from pandas>=1.3.0->yfinance) (2.8.2)\n",
            "Requirement already satisfied: tzdata>=2022.7 in /usr/local/lib/python3.10/dist-packages (from pandas>=1.3.0->yfinance) (2024.2)\n",
            "Requirement already satisfied: charset-normalizer<4,>=2 in /usr/local/lib/python3.10/dist-packages (from requests>=2.31->yfinance) (3.4.0)\n",
            "Requirement already satisfied: idna<4,>=2.5 in /usr/local/lib/python3.10/dist-packages (from requests>=2.31->yfinance) (3.10)\n",
            "Requirement already satisfied: urllib3<3,>=1.21.1 in /usr/local/lib/python3.10/dist-packages (from requests>=2.31->yfinance) (2.2.3)\n",
            "Requirement already satisfied: certifi>=2017.4.17 in /usr/local/lib/python3.10/dist-packages (from requests>=2.31->yfinance) (2024.8.30)\n"
          ]
        }
      ]
    },
    {
      "cell_type": "code",
      "source": [
        "import yfinance as yf\n",
        "import numpy as np\n",
        "from datetime import datetime, timedelta\n",
        "from concurrent.futures import ThreadPoolExecutor, as_completed\n",
        "from transformers import pipeline\n",
        "\n",
        "# Initialize Hugging Face GPT-Neo model pipeline for LLM-powered agents\n",
        "generator = pipeline('text-generation', model='EleutherAI/gpt-neo-2.7B', device='cuda')\n",
        "\n",
        "def llm_search_agent(instruction):\n",
        "    \"\"\"\n",
        "    Uses GPT-Neo model to generate a response based on the given instruction.\n",
        "    \"\"\"\n",
        "    response = generator(instruction, max_length=50, num_return_sequences=1)\n",
        "    print(\"LLM Search Agent Response:\", response[0]['generated_text'])\n",
        "    # Here the LLM would ideally interpret and initiate a search for top-performing stocks\n",
        "    return \"Searching for top 10 performing stocks over the past 3 months...\"\n",
        "\n",
        "# Stock Performance Fetching Agent\n",
        "\n",
        "def fetch_stock_performance(ticker):\n",
        "    \"\"\"\n",
        "    Fetches the 3-month performance of a single stock ticker.\n",
        "    Returns the ticker and its performance (percentage change).\n",
        "    \"\"\"\n",
        "    try:\n",
        "        stock_data = yf.Ticker(ticker)\n",
        "        hist = stock_data.history(period=\"3mo\")\n",
        "\n",
        "        if not hist.empty:\n",
        "            start_price = hist[\"Close\"].iloc[0]\n",
        "            end_price = hist[\"Close\"].iloc[-1]\n",
        "            percent_change = ((end_price - start_price) / start_price) * 100\n",
        "            return ticker, percent_change\n",
        "    except Exception as e:\n",
        "        print(f\"Error fetching data for {ticker}: {e}\")\n",
        "    return ticker, None\n",
        "\n",
        "def fetch_top_10_stocks():\n",
        "    \"\"\"\n",
        "    Fetches the top 10 performing stocks based on the last 3 months' performance.\n",
        "    \"\"\"\n",
        "    tickers = [\"AAPL\", \"MSFT\", \"GOOGL\", \"AMZN\", \"TSLA\", \"NVDA\", \"META\", \"NFLX\", \"ORCL\", \"INTC\",\n",
        "               \"IBM\", \"AMD\", \"CRM\", \"BA\", \"DIS\", \"GE\", \"KO\", \"PEP\", \"COST\", \"MCD\"]  # Extend as needed\n",
        "\n",
        "    performance = {}\n",
        "\n",
        "    # Use ThreadPoolExecutor to parallelize the data fetching process\n",
        "    with ThreadPoolExecutor(max_workers=10) as executor:\n",
        "        futures = {executor.submit(fetch_stock_performance, ticker): ticker for ticker in tickers}\n",
        "\n",
        "        for future in as_completed(futures):\n",
        "            ticker, percent_change = future.result()\n",
        "            if percent_change is not None:\n",
        "                performance[ticker] = percent_change\n",
        "\n",
        "    # Sort by performance and get the top 10 performing stocks\n",
        "    top_10 = sorted(performance, key=performance.get, reverse=True)[:10]\n",
        "\n",
        "    print(\"Top 10 Performing Stocks over the past 3 months:\", top_10)\n",
        "    return top_10\n",
        "\n",
        "\n",
        "def data_fetcher(ticker, period=\"3mo\"):\n",
        "    try:\n",
        "        stock_data = yf.Ticker(ticker)\n",
        "        hist = stock_data.history(period=period)\n",
        "        prices = hist[\"Close\"].tolist()\n",
        "        return prices\n",
        "    except Exception as e:\n",
        "        print(f\"Error fetching data for {ticker}: {e}\")\n",
        "        return None\n",
        "\n",
        "def normalize_prices(prices):\n",
        "    # Calculate normalized price (percent change)\n",
        "    return [(prices[i] - prices[0]) / prices[0] * 100 for i in range(len(prices))]\n",
        "\n",
        "def performance_analyzer(ticker_data):\n",
        "    best_performer = None\n",
        "    max_avg_return = -np.inf\n",
        "\n",
        "    for ticker, normalized_prices in ticker_data.items():\n",
        "        avg_return = sum(normalized_prices) / len(normalized_prices)\n",
        "        print(f\"{ticker}: Avg Return over 3 months = {avg_return}%\")\n",
        "\n",
        "        if avg_return > max_avg_return:\n",
        "            max_avg_return = avg_return\n",
        "            best_performer = ticker\n",
        "\n",
        "    return best_performer, max_avg_return\n",
        "\n",
        "# Main function to execute the multi-agent flow\n",
        "def main():\n",
        "    # Step 1: Use LLM agent to interpret the instruction\n",
        "    instruction = \"Find the top 10 performing stocks over the past 3 months and identify the best.\"\n",
        "    llm_search_agent(instruction)\n",
        "\n",
        "    # Step 2: Fetch top 10 stocks (this should ideally be dynamic)\n",
        "    top_stocks = fetch_top_10_stocks()\n",
        "    print(\"Top 10 Stocks Identified:\", top_stocks)\n",
        "\n",
        "    # Step 3: Fetch data and normalize prices for each stock\n",
        "    ticker_data = {}\n",
        "    for ticker in top_stocks:\n",
        "        prices = data_fetcher(ticker)\n",
        "        if prices:\n",
        "            normalized_prices = normalize_prices(prices)\n",
        "            ticker_data[ticker] = normalized_prices\n",
        "            print(f\"{ticker}: Normalized Prices = {normalized_prices}\")\n",
        "\n",
        "    # Step 4: Analyze performance and find the best-performing stock\n",
        "    best_stock, best_return = performance_analyzer(ticker_data)\n",
        "    print(f\"Best Performing Stock: {best_stock} with an average return of {best_return}%\")\n",
        "\n",
        "if __name__ == \"__main__\":\n",
        "    main()\n"
      ],
      "metadata": {
        "colab": {
          "base_uri": "https://localhost:8080/"
        },
        "id": "kSkX-oJ8veV8",
        "outputId": "5cd9f941-5671-4cc4-ccf7-be6003bdca4e"
      },
      "execution_count": 3,
      "outputs": [
        {
          "output_type": "stream",
          "name": "stderr",
          "text": [
            "Truncation was not explicitly activated but `max_length` is provided a specific value, please use `truncation=True` to explicitly truncate examples to max length. Defaulting to 'longest_first' truncation strategy. If you encode pairs of sequences (GLUE-style) with the tokenizer you can select this strategy more precisely by providing a specific strategy to `truncation`.\n",
            "Setting `pad_token_id` to `eos_token_id`:50256 for open-end generation.\n"
          ]
        },
        {
          "output_type": "stream",
          "name": "stdout",
          "text": [
            "LLM Search Agent Response: Find the top 10 performing stocks over the past 3 months and identify the best. They are ranked by which stock they made the biggest gains. Also include a description of the performance of the stock and the price increases for the stock over the last three months\n",
            "Top 10 Performing Stocks over the past 3 months: ['TSLA', 'ORCL', 'NVDA', 'INTC', 'CRM', 'NFLX', 'AMZN', 'DIS', 'META', 'MCD']\n",
            "Top 10 Stocks Identified: ['TSLA', 'ORCL', 'NVDA', 'INTC', 'CRM', 'NFLX', 'AMZN', 'DIS', 'META', 'MCD']\n",
            "TSLA: Normalized Prices = [0.0, -1.2549972534179688, 3.9150009155273438, 0.69000244140625, 7.06999969482422, 8.05999755859375, 11.360000610351562, 10.550003051757812, 11.635002136230469, 5.3300018310546875, 10.160003662109375, 6.605003356933594, 4.605003356933594, 2.875, 3.1399993896484375, 7.05500030517578, 5.3000030517578125, 9.705001831054688, 15.084999084472656, 5.364997863769531, 8.135002136230469, 13.084999084472656, 14.06500244140625, 14.904998779296875, 15.144996643066404, 13.389999389648438, 13.93499755859375, 13.599998474121094, 21.959999084472656, 19.125, 25.0, 27.13500213623047, 28.50999450683594, 27.110000610351566, 30.229995727539062, 30.815002441406246, 29.00999450683594, 24.51000213623047, 20.330001831054688, 25.040000915527344, 20.415000915527344, 22.25, 20.525001525878906, 19.38500213623047, 8.900001525878906, 9.580001831054688, 9.785003662109375, 10.665000915527344, 10.444999694824219, 10.349998474121094, 9.425003051757812, 8.985000610351562, 6.8249969482421875, 30.240005493164062, 34.595001220703125, 31.2550048828125, 29.759994506835934, 28.774993896484375, 24.925003051757812, 24.48999786376953, 21.419998168945312, 25.720001220703125, 44.26499938964844, 48.45500183105469, 60.61000061035157]\n",
            "ORCL: Normalized Prices = [0.0, 0.39376894773491083, 1.6659125884584691, 2.680611960232382, 3.6877145779047718, 4.096630712171378, 4.437372926627515, 5.383921539426632, 6.163862680794931, 4.558538838463246, 5.399068725958329, 5.1794576820844105, 4.861424667007981, 4.407090133981961, 5.573226629819321, 6.989245381758318, 5.633803795528268, 6.580340827909548, 7.9887975670005344, 7.3830027490753904, 5.929127611224992, 18.04482710262462, 19.02165850806929, 22.202034980504944, 22.694237479860206, 28.979254492073032, 26.813577391411293, 24.587311544622768, 26.904437349765793, 27.21490835199421, 25.662576501687788, 25.548995763535743, 25.91247033820726, 27.290632704234856, 27.775261610324264, 29.03225806451613, 26.578830741423516, 26.995308888538133, 26.351657684701586, 29.38058545265595, 28.706651456173848, 32.038465052672954, 35.00681565491837, 33.12466192417675, 33.39787872222133, 33.66349876616438, 32.12286313787403, 32.6389444588106, 33.32956583739681, 32.5782283280876, 31.87241344129834, 33.04876386566854, 31.371525628564818, 32.342960559297126, 31.69027662954718, 30.855444307628243, 31.62196374472266, 32.479563168110495, 27.379523991556947, 29.03400670760962, 28.707658952525726, 30.369726842262086, 37.54925006951146, 41.44257496612438, 43.628309350481]\n",
            "NVDA: Normalized Prices = [0.0, 4.076368065598446, 10.873505257411926, 12.725534354586893, 17.288783182691805, 18.93078385602979, 24.105004596966715, 21.479707571439455, 22.67303234746571, 18.128875025876603, 23.503574795365417, 20.72553114960297, 22.48210271419891, 19.914080208219065, 12.257752382650606, 13.957042143644758, 3.1026211086942617, 1.3937892364693956, 2.348444686857774, -1.8329375906591616, 1.6420006733379864, 3.1980859253276623, 11.608590172732608, 13.747195821167141, 13.709005524081155, 11.494019281474655, 10.35788161634332, 8.238374758478967, 12.534684845918212, 10.749326698433885, 10.9975599874656, 15.39889157087771, 17.919392906117718, 18.425401595411863, 15.904900260171853, 15.943090557257838, 11.704062273420384, 13.470321630334531, 17.289263930280526, 19.265566279140405, 21.938828802724352, 26.8748099772315, 26.645668194715594, 28.707900533032532, 28.698358421801817, 31.820347831078116, 25.64320749546677, 29.576713402616345, 30.731935290209112, 31.75350934813686, 37.205055891277624, 37.09047771596529, 33.2428945142184, 34.05442558020042, 35.133266873621224, 34.15944707617329, 34.856399966842986, 33.03285152227267, 26.750689690688457, 29.271191025928466, 29.891777890534936, 33.57705779270718, 39.01904765650847, 42.14103706578477, 40.94761759705165]\n",
            "INTC: Normalized Prices = [0.0, -1.775740691925344, 3.855912045579731, 1.065454092216198, 4.972102968573938, 5.88534656845611, 9.183163152538738, 6.49416918367023, 8.625067691041636, 1.97869769209837, 4.211069861025791, 2.1308985073714046, 1.8264871997643441, -0.5073489536581033, 2.1308985073714046, 11.821420290629238, 1.97869769209837, -1.4205925535402752, -1.5728030458743012, -4.160323353186792, -3.2470797533046194, -3.703701553245706, -0.3551481383850688, -1.775740691925344, -0.25367447682905164, 6.088284214507153, 8.929478998648694, 5.377987937737015, 7.255202291218376, 10.806703029191048, 14.459667751658746, 15.728059489925986, 19.431770720232684, 21.35972190449205, 21.308985073714044, 19.025876074008615, 15.119236874711866, 13.597160982554582, 12.937601536562452, 14.61187824399277, 13.546424151776574, 18.315579797238478, 19.025876074008615, 17.80822116651938, 19.533234704727708, 18.924412089513588, 14.96702638237784, 13.191276013391503, 13.850845136444626, 15.525121843874942, 15.880269982260012, 13.647897813332591, 11.516999305961185, 13.34348650572553, 15.068500043933858, 16.28615495142309, 16.184681289867072, 13.140539182613495, 9.183163152538738, 17.706757182024354, 14.256730105607701, 18.315579797238478, 27.092848303553147, 33.07965885650428, 32.92745804123125]\n",
            "CRM: Normalized Prices = [0.0, -0.4831073409948181, 0.8197114185882916, 1.1048263287570026, 4.062887469904134, 4.110406621598918, 5.088507143365498, 3.6866921683693357, 3.3897035221301746, 2.3997171605866523, 4.542036898875469, 5.04890381571768, 4.621243554171107, 2.522472951847098, 1.7740523645074784, 0.1465153671078387, -1.7700823487775015, -1.92056167976207, -2.5383106517942777, -3.3896914184236815, -2.6808681068786333, -2.522466899993851, -1.1721289887159565, 0.3326340618634963, 0.8078316306645952, 1.7344490368596595, 1.0533432131854874, 0.11733333075120927, 5.495421651981643, 5.816678229740937, 4.789448763315892, 7.260359925499266, 8.707999533281077, 9.370350663743057, 9.719373144199201, 8.55728418001988, 7.430901149997362, 10.84575617422172, 11.412911653109708, 14.125751700691799, 12.864521276621495, 15.64082105735075, 14.19318144956894, 15.085563521946199, 14.26456911046956, 15.6685869600476, 14.363722674067034, 15.35921622206525, 15.458369785662724, 16.184180649271866, 15.52976955026984, 14.355782642607078, 12.808989471227793, 13.733107462031882, 15.200572941050591, 16.51336515478462, 18.544040304374327, 17.556462580423077, 15.561493364990175, 16.890153537937618, 18.19501782391818, 17.98877066526328, 21.720912251516957, 23.25977749514278, 27.689964042308745]\n",
            "NFLX: Normalized Prices = [0.0, -0.12619298196798856, 2.2210330686846245, 4.375806878812471, 4.6187286097985325, 6.330252820182558, 8.611229240185768, 10.190234933456237, 9.966241668370005, 8.67905784764472, 8.327282995873574, 8.59702807680721, 9.745396728995493, 7.871411209560743, 9.234308893885345, 10.633494161107434, 6.527432363228596, 7.215192298675402, 7.836702603472806, 5.020982579938349, 6.543202875509328, 6.2592662591045105, 7.497549938270671, 8.338326205633038, 9.956777435420088, 9.86844138525176, 11.51054838345991, 8.917242648202137, 11.101997761896651, 10.583024670646138, 11.267626652473847, 13.931918948809669, 13.821496479122414, 12.22355269204474, 11.57995596772841, 11.882830677940433, 11.387513355111018, 12.169925247964347, 11.493198894369629, 13.52809562976768, 10.723409188085311, 13.853047131591254, 14.747450843034013, 15.198595326825574, 14.015518068549351, 12.471211353459447, 11.363847958782543, 10.736031374654322, 8.47241407164877, 20.498787220647472, 21.789128994991852, 20.55399364153741, 18.195724381125338, 19.02545743872824, 19.045964881437616, 18.16891065908514, 19.796826121822107, 18.897685479950702, 19.258924564671762, 19.269958146523848, 19.176894793834247, 20.501935546359192, 23.073164490005414, 25.649111108265533, 25.412495656610286]\n",
            "AMZN: Normalized Prices = [0.0, -0.0838620987187151, 1.9707638900314244, 1.892897817117557, 6.379533808993673, 6.062055210966878, 6.756917823369511, 7.152271634593413, 7.889060726213784, 5.5049732281103925, 6.050072299640422, 5.127589213734556, 3.7019243952331595, 2.3122083107111324, 3.102906792875698, 6.9246420208069415, 5.5768524155026515, 3.827722113452851, 6.55924091775756, 2.6656265024340575, 5.067683797385513, 7.5536123313389245, 10.530730546278168, 12.016291640845367, 11.710795954145027, 10.752364134259793, 11.944412453453108, 11.674847220165658, 13.735469234720647, 14.771776267802986, 16.13753566995534, 16.185458174977928, 15.328858250659472, 14.508207060320386, 12.597339446354763, 11.614950944099856, 10.896131649327549, 10.674488921062686, 8.997246946688383, 11.722769725188243, 8.302384334285751, 9.452497033978089, 10.920088331697222, 11.806631823906958, 13.106508064471903, 12.33975712439377, 12.429615248917333, 11.950399338974718, 12.333770238872162, 13.208339960038682, 13.256262465061267, 13.633637339153864, 10.644545353171404, 11.644903652274378, 12.513477347636048, 12.848925742510907, 14.310530154708434, 15.448659943074317, 11.656877423317594, 18.56354964727647, 17.275665458321225, 19.50401167031364, 24.050553078538798, 25.823649203241512, 24.703480071440453]\n",
            "DIS: Normalized Prices = [0.0, -0.3015916239318206, -0.7075752428136032, 0.1044008447291202, 2.992694418807126, 3.584275606194385, 5.347408258100623, 4.09465122002613, 5.23141420267428, 4.303444059705212, 5.045816634168802, 6.460967119796009, 5.440207042353362, 3.804661656570691, 4.175847943802486, 4.8370237944897205, 3.3870759772125267, 3.526274153591634, 2.8303009712544127, 2.0067316730144658, 2.4707078947198413, 2.540311407798974, 2.4475126235462357, 3.584275606194385, 5.034223423471579, 6.542163843572365, 7.7137241578705025, 8.548895516586832, 8.398095279731342, 8.746086295789532, 7.841320273773228, 8.676491632489556, 8.943277074992233, 10.428022223919413, 11.367594427364862, 11.576387267043945, 9.094077311847721, 9.210071367274066, 8.606888119410424, 10.37002962109582, 7.168542362609612, 7.30774053898872, 8.572090787760436, 7.864515544946833, 9.186867246321302, 10.161236781416738, 9.291268091050423, 12.225961057254796, 11.982370885925727, 12.840737515815661, 12.075169670178465, 12.214358996778415, 11.634379869867537, 10.660019184551258, 10.230831444716713, 11.587980477741167, 11.506783753964811, 10.288832897319464, 11.587980477741167, 11.135597466733016, 11.11240219555941, 12.086762880875689, 14.708271012451018, 14.75467040457739, 14.859062399527351]\n",
            "META: Normalized Prices = [0.0, -0.3515137770722304, 2.0800681151600244, 1.7362946971814592, 3.777731812840477, 1.8637510370134298, 2.2229933738514385, 1.7304894278612104, 3.3586196863054285, 2.7348010202642836, 1.975773855969616, 0.6470043453384808, 0.256859568765244, -0.19120810840372912, 0.08690204988543443, 0.6837002550660709, -1.1607529811886854, -0.9714858622223161, -0.17576278820005856, -3.379887974821178, -2.506908801460851, -2.506908801460851, -1.1472368510944881, 1.5122490592690858, 1.3229760406387732, 3.0937955712166723, 3.6814846952687876, 3.996597545810596, 8.08531244443254, 8.520282867647293, 9.111842171246241, 8.903064863619239, 9.865795624549635, 9.77494079982216, 9.682139085993384, 10.664208945330056, 11.443283167704202, 10.735736470979141, 12.661209792167819, 15.20723336557303, 13.049785258132127, 14.617609151747498, 14.157506160134107, 12.866128719575876, 14.049247326773774, 14.140102151501246, 13.337830450501878, 11.505147043814091, 11.532214701986145, 11.443283167704202, 11.190034193272282, 12.51428456132282, 8.972657299494905, 9.76334206050955, 10.820797825714251, 11.76999475755862, 14.693006856943413, 14.406884955019192, 9.724675663024883, 9.643472688508718, 8.390761645435154, 10.66227385555664, 10.58881124013414, 14.387557655940803, 13.931324843874243]\n",
            "MCD: Normalized Prices = [0.0, 0.5785460867365423, 0.8958206873763619, 1.2093602194112203, 2.597889159203977, 3.949078870212782, 7.330816859503905, 6.61416489250908, 8.137053186689498, 7.9504257863637005, 8.066132712257877, 7.752604637488678, 8.11094207825175, 7.144189459178106, 7.446523785398082, 7.745145957544415, 7.193249470731613, 8.135586656685097, 8.113061672398738, 8.69122966936852, 9.359497603483742, 9.351981637211182, 8.9615409380705, 9.757454268896984, 11.32675594626359, 11.386826390115772, 10.283056331021486, 9.637313381192623, 10.320601790587308, 11.439380867695393, 12.276597641223976, 12.730866767353117, 12.805957686484756, 13.999827682724483, 14.014848158003943, 14.322704886271746, 13.74829487243824, 14.041131125426581, 13.924748220858502, 14.041131125426581, 12.948623558475477, 13.342822240752438, 14.067402635583562, 14.146251537851484, 14.521683218978366, 16.32375070548113, 17.637761589425217, 17.480086699420696, 18.14835463353592, 18.846652060944404, 18.21968756953128, 18.14459665039964, 12.092639783796814, 13.22268135304808, 9.855058715049324, 11.424371849681592, 10.752345932430089, 9.445839557492903, 9.667342874485882, 10.83118337743235, 9.945170109460424, 11.623350182388211, 10.376914251303207, 10.624700535718826, 12.242810164794435]\n",
            "TSLA: Avg Return over 3 months = 17.143538841834435%\n",
            "ORCL: Avg Return over 3 months = 21.630542785497227%\n",
            "NVDA: Avg Return over 3 months = 20.37685736242576%\n",
            "INTC: Avg Return over 3 months = 10.549901372883156%\n",
            "CRM: Avg Return over 3 months = 8.446910759818929%\n",
            "NFLX: Avg Return over 3 months = 12.148224685348696%\n",
            "AMZN: Avg Return over 3 months = 10.608047499098976%\n",
            "DIS: Avg Return over 3 months = 7.620747969583254%\n",
            "META: Avg Return over 3 months = 6.941295539154267%\n",
            "MCD: Avg Return over 3 months = 10.63576032239265%\n",
            "Best Performing Stock: ORCL with an average return of 21.630542785497227%\n"
          ]
        }
      ]
    }
  ]
}